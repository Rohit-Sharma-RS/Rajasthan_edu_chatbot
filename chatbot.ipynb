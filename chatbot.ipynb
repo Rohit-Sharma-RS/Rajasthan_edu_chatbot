{
 "cells": [
  {
   "cell_type": "code",
   "execution_count": 1,
   "metadata": {},
   "outputs": [
    {
     "name": "stdout",
     "output_type": "stream",
     "text": [
      "sagemaker.config INFO - Not applying SDK defaults from location: C:\\ProgramData\\sagemaker\\sagemaker\\config.yaml\n",
      "sagemaker.config INFO - Not applying SDK defaults from location: C:\\Users\\Lenovo\\AppData\\Local\\sagemaker\\sagemaker\\config.yaml\n"
     ]
    },
    {
     "data": {
      "text/plain": [
       "True"
      ]
     },
     "execution_count": 1,
     "metadata": {},
     "output_type": "execute_result"
    }
   ],
   "source": [
    "import json\n",
    "import pandas as pd\n",
    "import cohere\n",
    "import re\n",
    "from thefuzz import fuzz\n",
    "import os\n",
    "from dotenv import load_dotenv\n",
    "\n",
    "load_dotenv('api.env')"
   ]
  },
  {
   "cell_type": "code",
   "execution_count": 2,
   "metadata": {},
   "outputs": [],
   "source": [
    "def load_data(file_path='data.json'):\n",
    "    try:\n",
    "        with open(file_path, 'r') as f:\n",
    "            data = json.load(f)\n",
    "        return pd.json_normalize(data)\n",
    "    except FileNotFoundError:\n",
    "        print(f\"Error: File {file_path} not found.\")\n",
    "        return None\n",
    "    except json.JSONDecodeError:\n",
    "        print(f\"Error: Unable to parse JSON from {file_path}.\")\n",
    "        return None\n",
    "\n",
    "df = load_data()\n",
    "if df is None:\n",
    "    print(\"Exiting due to data loading error.\")\n",
    "    exit(1)"
   ]
  },
  {
   "cell_type": "code",
   "execution_count": 3,
   "metadata": {},
   "outputs": [],
   "source": [
    "cohere_api_key = os.getenv('COHERE_API_KEY')\n",
    "if not cohere_api_key:\n",
    "    print(\"Error: COHERE_API_KEY not found in api.env file.\")\n",
    "    exit(1)\n",
    "\n",
    "try:\n",
    "    co = cohere.Client(cohere_api_key)\n",
    "except Exception as e:\n",
    "    print(f\"Error initializing Cohere client: {str(e)}\")\n",
    "    exit(1)"
   ]
  },
  {
   "cell_type": "code",
   "execution_count": 4,
   "metadata": {},
   "outputs": [],
   "source": [
    "def parse_user_input(user_input):\n",
    "    score = ''.join(filter(str.isdigit, user_input))\n",
    "    score = int(score) if score else None\n",
    "    \n",
    "    college_match = re.search(r\"(?:cutoff|information|fees|package|salary|life|placements|recruiters).*?\\b([A-Za-z\\s]+)\\b\", user_input, re.IGNORECASE)\n",
    "    college_name = college_match.group(1).strip() if college_match else None\n",
    "    \n",
    "    year_match = re.search(r'\\b(2023|2022|2021)\\b', user_input)\n",
    "    year = year_match.group(0) if year_match else '2023'\n",
    "    \n",
    "    return score, college_name, year\n"
   ]
  },
  {
   "cell_type": "code",
   "execution_count": 5,
   "metadata": {},
   "outputs": [],
   "source": [
    "def get_unique_exams():\n",
    "    return list(df['admission.exam'].unique())\n",
    "\n",
    "unique_exams = get_unique_exams()\n"
   ]
  },
  {
   "cell_type": "code",
   "execution_count": 6,
   "metadata": {},
   "outputs": [],
   "source": [
    "def fuzzy_match_college(college_name, threshold=70):\n",
    "    if not college_name:\n",
    "        return None\n",
    "    def match_score(x):\n",
    "        full_name_score = fuzz.ratio(x.lower(), college_name.lower())\n",
    "        acronym_score = fuzz.ratio(''.join(word[0] for word in x.split() if word).lower(), college_name.lower())\n",
    "        return max(full_name_score, acronym_score)\n",
    "\n",
    "    best_match = max(df['name'], key=match_score)\n",
    "    if match_score(best_match) > threshold:\n",
    "        return best_match\n",
    "    return None\n"
   ]
  },
  {
   "cell_type": "code",
   "execution_count": 7,
   "metadata": {},
   "outputs": [],
   "source": [
    "def get_college_cutoff(college_name, year='2023'):\n",
    "    matched_college = fuzzy_match_college(college_name)\n",
    "    if matched_college:\n",
    "        college = df[df['name'] == matched_college]\n",
    "        if not college.empty:\n",
    "            cutoff_column = f'admission.cutoff.{year}'\n",
    "            if cutoff_column in college.columns:\n",
    "                cutoff_info = college.iloc[0][cutoff_column]\n",
    "                if pd.notna(cutoff_info):\n",
    "                    return f\"The cutoff for {matched_college} in {year} is {cutoff_info}.\"\n",
    "                else:\n",
    "                    return f\"Cutoff information for the year {year} is not available.\"\n",
    "            else:\n",
    "                return f\"Cutoff information for the year {year} is not available.\"\n",
    "    return f\"College '{college_name}' not found.\"\n"
   ]
  },
  {
   "cell_type": "code",
   "execution_count": 8,
   "metadata": {},
   "outputs": [],
   "source": [
    "def normalize_column(column):\n",
    "    return (column - column.min()) / (column.max() - column.min())\n",
    "\n",
    "def find_best_college(eligible_colleges):\n",
    "    if eligible_colleges is None or eligible_colleges.empty:\n",
    "        return \"There are no eligible colleges available. Please ask for eligible colleges first.\"\n",
    "\n",
    "    eligible_colleges['normalized_avg_package'] = normalize_column(eligible_colleges['placements.average_package'].astype(float))\n",
    "    eligible_colleges['normalized_rating'] = normalize_column(eligible_colleges['rating'].astype(float))\n",
    "    eligible_colleges['normalized_highest_package'] = normalize_column(eligible_colleges['placements.highest_package'].astype(float))\n",
    "    eligible_colleges['normalized_cutoff'] = 1 - normalize_column(eligible_colleges['admission.cutoff.2023'].astype(float))\n",
    "\n",
    "    weights = {\n",
    "        'avg_package': 0.4,\n",
    "        'rating': 0.1,\n",
    "        'highest_package': 0.2,\n",
    "        'cutoff': 0.3\n",
    "    }\n",
    "\n",
    "    eligible_colleges['composite_score'] = sum(weights[param] * eligible_colleges[f'normalized_{param}'] for param in weights)\n",
    "\n",
    "    best_college = eligible_colleges.loc[eligible_colleges['composite_score'].idxmax()]\n",
    "    ai_prompt = f\"The best college is {best_college['name']} in {best_college['location']}. It has an average package of ₹{best_college['placements.average_package']} and a rating of {best_college['rating']}. Please provide a reason why this college is the best based on its rating, placement, and cutoff score.\"\n",
    "    \n",
    "    try:\n",
    "        explanation = co.generate(\n",
    "            model='command',\n",
    "            prompt=ai_prompt,\n",
    "            max_tokens=100,\n",
    "            temperature=0.7\n",
    "        ).generations[0].text.strip()\n",
    "\n",
    "        return f\"The best college is {best_college['name']} in {best_college['location']}.\\n\\nAI Explanation: {explanation}\"\n",
    "    \n",
    "    except Exception as e:\n",
    "        return f\"The best college is {best_college['name']} in {best_college['location']} but there was an issue generating an AI explanation: {str(e)}\"\n",
    "\n"
   ]
  },
  {
   "cell_type": "code",
   "execution_count": 9,
   "metadata": {},
   "outputs": [],
   "source": [
    "def get_colleges_by_score(score, exam):\n",
    "    eligible_colleges = df[df['admission.exam'] == exam]\n",
    "    \n",
    "    if exam in [\"JEE Main\", \"REAP\", \"MET\"]:\n",
    "        eligible_colleges = eligible_colleges[eligible_colleges['admission.cutoff.2023'].astype(int) >= score]\n",
    "    elif exam == \"BITSAT\":\n",
    "        eligible_colleges = eligible_colleges[eligible_colleges['admission.cutoff.2023'].astype(int) <= score]\n",
    "    else:\n",
    "        return f\"I'm sorry, but I don't have specific information about how to interpret scores for the {exam} exam.\"\n",
    "    \n",
    "    if eligible_colleges.empty:\n",
    "        return f\"I'm sorry, but with the given {exam} score/rank of {score}, you may not be eligible for any of the colleges in our database. Consider exploring other options or improving your score.\"\n",
    "    else:\n",
    "        result = eligible_colleges[['name', 'location', 'rating']].head(10).to_string(index=False)\n",
    "        return f\"Based on your {exam} score/rank of {score}, you may be eligible for the following colleges:\\n\\n{result}\", eligible_colleges\n",
    "\n",
    "def get_college_fees(college_name):\n",
    "    matched_college = fuzzy_match_college(college_name)\n",
    "    if matched_college:\n",
    "        college = df[df['name'] == matched_college]\n",
    "        if not college.empty:\n",
    "            courses = college.iloc[0]['courses']\n",
    "            fees_info = \"\\n\".join([f\"{course['name']}: ₹{course['annual_fee']} per year\" for course in courses])\n",
    "            return f\"Annual fees for {matched_college}:\\n{fees_info}\"\n",
    "    else:\n",
    "        return f\"College '{college_name}' not found.\"\n",
    "\n",
    "def get_median_salary(college_name):\n",
    "    matched_college = fuzzy_match_college(college_name)\n",
    "    if matched_college:\n",
    "        college = df[df['name'] == matched_college]\n",
    "        if not college.empty:\n",
    "            avg_package = college['placements.average_package'].iloc[0]\n",
    "            return f\"The average package for {matched_college} is ₹{avg_package} per annum.\"\n",
    "    return f\"College '{college_name}' not found.\"\n",
    "\n",
    "def get_college_info(college_name):\n",
    "    matched_college = fuzzy_match_college(college_name)\n",
    "    if matched_college:\n",
    "        college = df[df['name'] == matched_college]\n",
    "        if not college.empty:\n",
    "            info = college.iloc[0]\n",
    "            return f\"\"\"\n",
    "College: {info['name']}\n",
    "Location: {info['location']}\n",
    "Type: {info['type']}\n",
    "Rating: {info['rating']}\n",
    "Admission Exam: {info['admission.exam']}\n",
    "Average Package: ₹{info['placements.average_package']}\n",
    "Highest Package: ₹{info['placements.highest_package']}\n",
    "Top Recruiters: {', '.join(info['placements.top_recruiters'])}\n",
    "Facilities: {', '.join(info['facilities'])}\n",
    "            \"\"\"\n",
    "    return f\"College '{college_name}' not found.\""
   ]
  },
  {
   "cell_type": "code",
   "execution_count": 10,
   "metadata": {},
   "outputs": [],
   "source": [
    "def handle_general_questions(user_input):\n",
    "    try:\n",
    "        ai_prompt = f\"\"\"\n",
    "        You are an expert on engineering colleges in Rajasthan. Answer the following question in a detailed and helpful manner:\n",
    "        {user_input}.\n",
    "        \n",
    "        Provide a clear, factual, and informative response based on common knowledge about Rajasthan engineering colleges, their environment, placements, facilities, and courses.\n",
    "        \"\"\"\n",
    "        \n",
    "        response = co.generate(\n",
    "            model='command',\n",
    "            prompt=ai_prompt,\n",
    "            max_tokens=200,\n",
    "            temperature=0.7\n",
    "        )\n",
    "        return response.generations[0].text.strip()\n",
    "    except Exception as e:\n",
    "        return f\"An error occurred while using AI: {str(e)}\"\n"
   ]
  },
  {
   "cell_type": "code",
   "execution_count": 11,
   "metadata": {},
   "outputs": [],
   "source": [
    "def process_query(user_input):\n",
    "    global eligible_colleges\n",
    "    lower_input = user_input.lower()\n",
    "    score, college_name, year = parse_user_input(user_input)\n",
    "    \n",
    "    if \"which colleges can i get\" in lower_input:\n",
    "        if score is not None:\n",
    "            exam = next((exam for exam in unique_exams if exam.lower() in lower_input), None)\n",
    "            if exam:\n",
    "                result, eligible_colleges = get_colleges_by_score(score, exam)\n",
    "                return result\n",
    "            else:\n",
    "                return \"Please specify a valid exam (e.g., JEE Main, BITSAT, REAP, MET).\"\n",
    "        else:\n",
    "            return \"Please provide a valid rank or score.\"\n",
    "\n",
    "    elif \"which college is best\" in lower_input:\n",
    "        if eligible_colleges is None:\n",
    "            return \"Please specify a score and exam first to find eligible colleges.\"\n",
    "        return find_best_college(eligible_colleges)\n",
    "    \n",
    "    elif \"cutoff\" in lower_input:\n",
    "        if college_name:\n",
    "            return get_college_cutoff(college_name, year)\n",
    "        else:\n",
    "            return \"I'm sorry, I couldn't find the college name in your request.\"\n",
    "    \n",
    "    elif \"fees\" in lower_input:\n",
    "        if college_name:\n",
    "            return get_college_fees(college_name)\n",
    "        else:\n",
    "            return \"Please provide a college name for fee information.\"\n",
    "\n",
    "    elif \"median salary\" in lower_input or \"average package\" in lower_input:\n",
    "        if college_name:\n",
    "            return get_median_salary(college_name)\n",
    "        else:\n",
    "            return \"Please provide a college name for placement package information.\"\n",
    "    \n",
    "    else:\n",
    "        return handle_general_questions(user_input)\n"
   ]
  },
  {
   "cell_type": "code",
   "execution_count": null,
   "metadata": {},
   "outputs": [
    {
     "name": "stdout",
     "output_type": "stream",
     "text": [
      "Welcome to the Rajasthan Engineering College Chatbot!\n",
      "You can ask about college eligibility based on these exams: BITSAT, JEE Main, MET, REAP, SGVU CET, MUST CET, Banasthali Aptitude Test\n",
      "You can also ask about college fees, placements, and general information.\n",
      "Type 'quit' to exit.\n",
      "\n",
      "Chatbot: There are many renowned government and private engineering colleges in Rajasthan offering a wide array of specializations and academic programs for aspiring engineers. Here is a list of some of the popular engineering colleges in Rajasthan along with their salient features providing information on their environment, placements, facilities, and courses. This list is based on the availability of information in the public domain, which includes official college websites, government sources, and other reputable sources on the internet. \n",
      "\n",
      "1. Indian Institute of Technology, Jodhpur (IITJ) - IITJ is a premier governmental institute and recognized as an Institute of National Importance. It offers B.Tech, B.Tech (Flexi), M.Tech, and Ph.D. programs in various specializations. The institute has an excellent research environment, state-of-the-art facilities, and robust industry connections for placements. \n",
      "\n",
      "2. Malaviya National Institute of Technology (MNIT) - Founded in 1963, MNIT is a Government of India N\n"
     ]
    }
   ],
   "source": [
    "def run_chatbot():\n",
    "    print(\"Welcome to the Rajasthan Engineering College Chatbot!\")\n",
    "    print(f\"You can ask about college eligibility based on these exams: {', '.join(unique_exams)}\")\n",
    "    print(\"You can also ask about college fees, placements, and general information.\")\n",
    "    print(\"Type 'quit' to exit.\")\n",
    "    \n",
    "    while True:\n",
    "        user_input = input(\"\\nYou: \")\n",
    "        if user_input.lower() == 'quit':\n",
    "            print(\"Thank you for using the chatbot. Goodbye!\")\n",
    "            break\n",
    "        \n",
    "        response = process_query(user_input)\n",
    "        print(f\"\\nChatbot: {response}\")\n",
    "\n",
    "if __name__ == \"__main__\":\n",
    "    run_chatbot()\n"
   ]
  },
  {
   "cell_type": "code",
   "execution_count": null,
   "metadata": {},
   "outputs": [],
   "source": []
  }
 ],
 "metadata": {
  "kernelspec": {
   "display_name": "Python 3",
   "language": "python",
   "name": "python3"
  },
  "language_info": {
   "codemirror_mode": {
    "name": "ipython",
    "version": 3
   },
   "file_extension": ".py",
   "mimetype": "text/x-python",
   "name": "python",
   "nbconvert_exporter": "python",
   "pygments_lexer": "ipython3",
   "version": "3.12.7"
  }
 },
 "nbformat": 4,
 "nbformat_minor": 2
}
